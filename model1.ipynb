from pandas import DataFrame
import matplotlib.pyplot as plt
import pandas as pd
from sklearn.linear_model import LinearRegression
vital_data = pd.read_csv('Housing.csv')
# vital_data.head()
X = DataFrame(vital_data,columns=['bedrooms'])
y = DataFrame(vital_data,columns=['price'])
plt.scatter(X,y,alpha=1)
plt.title('Vital Stats')
plt.xlabel('area')
plt.ylabel('price')


from sklearn.model_selection import train_test_split
X_train, X_test, y_train, y_test = train_test_split(X, y, test_size=0.2, random_state=123)

regression = LinearRegression()
regression.fit(X_train,y_train)

#Predict the Weight values on the basis of the Test Height values
y_Pred = regression.predict(X_test)

plt.scatter(X_train,y_train,alpha=1)
plt.plot(X_train,regression.predict(X_train),color='red',linewidth=3)
plt.title('Vital Stats')
plt.xlabel('area in sq ft * 10^4')
plt.ylabel('price in Rs *10^3')
plt.show()



